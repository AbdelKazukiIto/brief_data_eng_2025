{
 "cells": [
  {
   "cell_type": "code",
   "execution_count": 1,
   "id": "92e778b4",
   "metadata": {},
   "outputs": [
    {
     "name": "stdout",
     "output_type": "stream",
     "text": [
      "Colonnes du fichier :\n",
      "- VendorID\n",
      "- tpep_pickup_datetime\n",
      "- tpep_dropoff_datetime\n",
      "- passenger_count\n",
      "- trip_distance\n",
      "- RatecodeID\n",
      "- store_and_fwd_flag\n",
      "- PULocationID\n",
      "- DOLocationID\n",
      "- payment_type\n",
      "- fare_amount\n",
      "- extra\n",
      "- mta_tax\n",
      "- tip_amount\n",
      "- tolls_amount\n",
      "- improvement_surcharge\n",
      "- total_amount\n",
      "- congestion_surcharge\n",
      "- Airport_fee\n",
      "- cbd_congestion_fee\n"
     ]
    }
   ],
   "source": [
    "import pandas as pd\n",
    "from pathlib import Path\n",
    "\n",
    "# 🔹 1. Définir le chemin vers le dossier contenant tes fichiers Parquet\n",
    "data_dir = Path(\"../data/raw\")  # adapte le chemin si besoin\n",
    "\n",
    "# 🔹 2. Choisir un fichier Parquet (exemple : janvier 2025)\n",
    "file_path = data_dir / \"yellow_tripdata_2025-01.parquet\"\n",
    "\n",
    "# 🔹 3. Lire uniquement le schéma (les colonnes) sans charger tout le DataFrame\n",
    "df = pd.read_parquet(file_path, engine=\"pyarrow\")\n",
    "\n",
    "# 🔹 4. Afficher les colonnes\n",
    "print(\"Colonnes du fichier :\")\n",
    "for col in df.columns:\n",
    "    print(\"-\", col)\n"
   ]
  }
 ],
 "metadata": {
  "kernelspec": {
   "display_name": "venv",
   "language": "python",
   "name": "python3"
  },
  "language_info": {
   "name": "python",
   "version": "3.12.3"
  }
 },
 "nbformat": 4,
 "nbformat_minor": 5
}
